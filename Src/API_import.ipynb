{
 "cells": [
  {
   "cell_type": "markdown",
   "id": "716c4c46",
   "metadata": {},
   "source": [
    "# We get the Nobel Prize dataset from the Nobel Organization through its API"
   ]
  },
  {
   "cell_type": "code",
   "execution_count": 2,
   "id": "4461d856",
   "metadata": {},
   "outputs": [],
   "source": [
    "import pandas as pd\n",
    "import os\n",
    "from dotenv import load_dotenv\n",
    "from pandas import json_normalize\n",
    "import json\n",
    "import requests"
   ]
  },
  {
   "cell_type": "markdown",
   "id": "deac78e3",
   "metadata": {},
   "source": [
    "First we insert the URL from the API and get the response in json format"
   ]
  },
  {
   "cell_type": "code",
   "execution_count": 3,
   "id": "87cd6c77",
   "metadata": {},
   "outputs": [],
   "source": [
    "url = 'http://api.nobelprize.org/2.1/laureates?limit=1000&sort=asc&format=json&csvLang=en'\n",
    "parameters = {'accept': 'application/json'}\n",
    "response = requests.get(url).json()"
   ]
  },
  {
   "cell_type": "markdown",
   "id": "bb8725de",
   "metadata": {},
   "source": [
    "We make data visualization on the column where most of the information is located."
   ]
  },
  {
   "cell_type": "code",
   "execution_count": 4,
   "id": "e6b5002a",
   "metadata": {},
   "outputs": [
    {
     "data": {
      "text/plain": [
       "Index(['id', 'fileName', 'gender', 'sameAs', 'links', 'nobelPrizes',\n",
       "       'knownName.en', 'knownName.se', 'givenName.en', 'givenName.se',\n",
       "       ...\n",
       "       'nativeName', 'penName', 'penNameOf.fullName', 'foundedCountry.en',\n",
       "       'foundedCountry.no', 'foundedCountry.se', 'foundedCountryNow.en',\n",
       "       'foundedCountryNow.no', 'foundedCountryNow.se', 'foundedContinent.en'],\n",
       "      dtype='object', length=101)"
      ]
     },
     "execution_count": 4,
     "metadata": {},
     "output_type": "execute_result"
    }
   ],
   "source": [
    "df = json_normalize(response[\"laureates\"])\n",
    "df.columns"
   ]
  },
  {
   "cell_type": "code",
   "execution_count": 10,
   "id": "357e50e3",
   "metadata": {},
   "outputs": [],
   "source": [
    "df.to_pickle(\"../data/df.pkl\")"
   ]
  }
 ],
 "metadata": {
  "kernelspec": {
   "display_name": "Python 3 (ipykernel)",
   "language": "python",
   "name": "python3"
  },
  "language_info": {
   "codemirror_mode": {
    "name": "ipython",
    "version": 3
   },
   "file_extension": ".py",
   "mimetype": "text/x-python",
   "name": "python",
   "nbconvert_exporter": "python",
   "pygments_lexer": "ipython3",
   "version": "3.9.13"
  },
  "vscode": {
   "interpreter": {
    "hash": "d4759af1a331152d6a8c8a49319d038c8a5acd4bea515d65aad9cad3e01a0b9b"
   }
  }
 },
 "nbformat": 4,
 "nbformat_minor": 5
}

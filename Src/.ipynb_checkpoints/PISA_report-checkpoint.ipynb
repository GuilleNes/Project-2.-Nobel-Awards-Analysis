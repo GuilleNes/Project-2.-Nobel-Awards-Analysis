{
 "cells": [
  {
   "cell_type": "code",
   "execution_count": 1,
   "id": "fd6f4da8",
   "metadata": {},
   "outputs": [],
   "source": [
    "import pandas as pd\n",
    "import os\n",
    "from dotenv import load_dotenv\n",
    "from pandas import json_normalize\n",
    "import json\n",
    "import requests"
   ]
  },
  {
   "cell_type": "code",
   "execution_count": 2,
   "id": "256b0cd1",
   "metadata": {},
   "outputs": [
    {
     "data": {
      "text/plain": [
       "Index(['Country Name', 'Country Code', 'Series Name', 'Series Code',\n",
       "       '2013 [YR2013]', '2014 [YR2014]', '2015 [YR2015]'],\n",
       "      dtype='object')"
      ]
     },
     "execution_count": 2,
     "metadata": {},
     "output_type": "execute_result"
    }
   ],
   "source": [
    "df3 = pd.read_csv(\"../Data/Pisa report 2013 - 2015.csv\")\n",
    "\n",
    "df3.columns\n"
   ]
  },
  {
   "cell_type": "code",
   "execution_count": 3,
   "id": "d6c7dc8d",
   "metadata": {},
   "outputs": [
    {
     "data": {
      "text/plain": [
       "LO.PISA.MAT       129\n",
       "LO.PISA.MAT.FE    129\n",
       "LO.PISA.MAT.MA    129\n",
       "LO.PISA.REA       129\n",
       "LO.PISA.REA.FE    129\n",
       "LO.PISA.REA.MA    129\n",
       "LO.PISA.SCI       129\n",
       "LO.PISA.SCI.FE    129\n",
       "LO.PISA.SCI.MA    129\n",
       "Name: Series Code, dtype: int64"
      ]
     },
     "execution_count": 3,
     "metadata": {},
     "output_type": "execute_result"
    }
   ],
   "source": [
    "df3 = df3.dropna()\n",
    "df3[\"Series Code\"].value_counts()"
   ]
  },
  {
   "cell_type": "code",
   "execution_count": 4,
   "id": "3839be4b",
   "metadata": {},
   "outputs": [],
   "source": [
    "def delete_rows(column, value):\n",
    "    df3.drop(df3.loc[df3[column]==value].index, inplace=True)\n",
    "    return                  \n"
   ]
  },
  {
   "cell_type": "code",
   "execution_count": 5,
   "id": "4d9b6924",
   "metadata": {},
   "outputs": [],
   "source": [
    "delete_rows('Series Code', \"LO.PISA.MAT.FE\" )\n",
    "delete_rows('Series Code', \"LO.PISA.MAT.MA\" )\n",
    "delete_rows('Series Code', \"LO.PISA.REA.FE\" )\n",
    "delete_rows('Series Code', \"LO.PISA.REA.MA\" )\n",
    "delete_rows('Series Code', \"LO.PISA.SCI.FE\" )\n",
    "delete_rows('Series Code', \"LO.PISA.SCI.MA\" )"
   ]
  },
  {
   "cell_type": "code",
   "execution_count": 6,
   "id": "31375736",
   "metadata": {},
   "outputs": [
    {
     "data": {
      "text/plain": [
       "LO.PISA.MAT    129\n",
       "LO.PISA.REA    129\n",
       "LO.PISA.SCI    129\n",
       "Name: Series Code, dtype: int64"
      ]
     },
     "execution_count": 6,
     "metadata": {},
     "output_type": "execute_result"
    }
   ],
   "source": [
    "df3[\"Series Code\"].value_counts()\n"
   ]
  },
  {
   "cell_type": "code",
   "execution_count": 7,
   "id": "6a3e916b",
   "metadata": {},
   "outputs": [],
   "source": [
    "# df3.to_csv(\"../data/df3.csv\", index=False)"
   ]
  },
  {
   "cell_type": "code",
   "execution_count": 13,
   "id": "38e1f3d1",
   "metadata": {},
   "outputs": [],
   "source": [
    "def delete_rows_country(column):\n",
    "    for i in Countries:\n",
    "        if i not in column:\n",
    "            df3.drop(df3.loc[df3[column]==i].index, inplace=True)\n",
    "    df3.reset_index(drop=True, inplace=True)\n",
    "    return\n",
    "Countries= ['Albania', 'Algeria', 'Argentina', 'Armenia', 'Azerbaijan', 'Bahrain', 'Belize', 'Benin', 'Bolivia', 'Bosnia and Herzegovina', 'Botswana', 'Bulgaria', 'Burkina Faso', 'Burundi', 'Cameroon', 'Chad', 'Chile', 'Colombia', 'Comoros', 'Congo, Rep.', 'Costa Rica', \"Cote d'Ivoire\", 'Croatia', 'Cuba', 'Cyprus', 'Czech Republic', 'Dominican Republic', 'Ecuador', 'Egypt, Arab Rep.', 'El Salvador', 'Ethiopia', 'Gabon', 'Georgia', 'Ghana', 'Greece', 'Guatemala', 'Guyana', 'Honduras', 'Hungary', 'Indonesia', 'Iran, Islamic Rep.', 'Jordan', 'Kazakhstan', 'Kenya', 'Kuwait', 'Kyrgyz Republic', 'Latvia', 'Lebanon', 'Lesotho', 'Liechtenstein', 'Lithuania', 'Luxembourg', 'Macao SAR, China', 'Macedonia, FYR', 'Madagascar', 'Malawi', 'Malaysia', 'Mali', 'Malta', 'Mauritius', 'Moldova', 'Mongolia', 'Montenegro', 'Morocco', 'Mozambique', 'Namibia', 'Nicaragua', 'Niger', 'Oman', 'Panama', 'Paraguay', 'Peru', 'Philippines', 'Poland', 'Qatar', 'Rwanda', 'Saudi Arabia', 'Senegal', 'Serbia', 'Seychelles', 'Slovak Republic', 'Slovenia', 'South Africa', 'Swaziland', 'Syrian Arab Republic', 'Tanzania', 'Thailand', 'Togo', 'Trinidad and Tobago', 'Tunisia', 'Turkey', 'Uganda', 'Ukraine', 'United Arab Emirates', 'Venezuela, RB', 'Vietnam', 'Yemen, Rep.', 'Zambia', 'Zimbabwe']"
   ]
  },
  {
   "cell_type": "code",
   "execution_count": 14,
   "id": "5059d17c",
   "metadata": {},
   "outputs": [],
   "source": [
    "delete_rows_country(\"Country Name\")   "
   ]
  },
  {
   "cell_type": "code",
   "execution_count": 15,
   "id": "d70dbc63",
   "metadata": {},
   "outputs": [],
   "source": [
    "\n",
    "def drop_column(datfr, column):\n",
    "    datfr = datfr.drop([column], axis = 1, inplace=True)\n",
    "    return"
   ]
  },
  {
   "cell_type": "code",
   "execution_count": null,
   "id": "b4304b7b",
   "metadata": {},
   "outputs": [],
   "source": [
    "drop_column(df3,\"2013 [YR2013]\")\n",
    "drop_column(df3,\"2014 [YR2014]\")"
   ]
  },
  {
   "cell_type": "code",
   "execution_count": null,
   "id": "753de1f7",
   "metadata": {},
   "outputs": [],
   "source": [
    "def sort_reset(dfr, column):\n",
    "    dfr.sort_values(by = [column], inplace = True, ascending = False)\n",
    "    dfr.reset_index(drop=True, inplace=True)\n",
    "    return"
   ]
  },
  {
   "cell_type": "code",
   "execution_count": null,
   "id": "24dff487",
   "metadata": {},
   "outputs": [],
   "source": [
    "sort_reset(df3, \"2015 [YR2015]\")\n",
    "df3"
   ]
  }
 ],
 "metadata": {
  "kernelspec": {
   "display_name": "Python 3 (ipykernel)",
   "language": "python",
   "name": "python3"
  },
  "language_info": {
   "codemirror_mode": {
    "name": "ipython",
    "version": 3
   },
   "file_extension": ".py",
   "mimetype": "text/x-python",
   "name": "python",
   "nbconvert_exporter": "python",
   "pygments_lexer": "ipython3",
   "version": "3.9.13"
  }
 },
 "nbformat": 4,
 "nbformat_minor": 5
}

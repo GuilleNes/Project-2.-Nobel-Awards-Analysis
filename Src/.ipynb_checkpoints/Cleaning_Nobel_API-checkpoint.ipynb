{
 "cells": [
  {
   "cell_type": "code",
   "execution_count": 7,
   "id": "288fb69e",
   "metadata": {},
   "outputs": [],
   "source": [
    "import pandas as pd\n",
    "import os\n",
    "from dotenv import load_dotenv\n",
    "from pandas import json_normalize\n",
    "import json\n",
    "import requests\n",
    "import re\n",
    "import functions\n",
    "%run Dataset_API_import.ipynb"
   ]
  },
  {
   "cell_type": "code",
   "execution_count": 2,
   "id": "d9991ebd",
   "metadata": {
    "scrolled": true
   },
   "outputs": [
    {
     "data": {
      "text/plain": [
       "[{'awardYear': '2001',\n",
       "  'category': {'en': 'Economic Sciences', 'no': 'Økonomi', 'se': 'Ekonomi'},\n",
       "  'categoryFullName': {'en': 'The Sveriges Riksbank Prize in Economic Sciences in Memory of Alfred Nobel',\n",
       "   'no': 'Sveriges Riksbanks pris i økonomisk vitenskap til minne om Alfred Nobel',\n",
       "   'se': 'Sveriges Riksbanks pris i ekonomisk vetenskap till Alfred Nobels minne'},\n",
       "  'sortOrder': '2',\n",
       "  'portion': '1/3',\n",
       "  'dateAwarded': '2001-10-10',\n",
       "  'prizeStatus': 'received',\n",
       "  'motivation': {'en': 'for their analyses of markets with asymmetric information',\n",
       "   'se': 'för deras analys av marknader med assymetrisk informations'},\n",
       "  'prizeAmount': 10000000,\n",
       "  'prizeAmountAdjusted': 12518033,\n",
       "  'affiliations': [{'name': {'en': 'Stanford University',\n",
       "     'no': 'Stanford University',\n",
       "     'se': 'Stanford University'},\n",
       "    'nameNow': {'en': 'Stanford University'},\n",
       "    'city': {'en': 'Stanford, CA', 'no': 'Stanford, CA', 'se': 'Stanford, CA'},\n",
       "    'country': {'en': 'USA', 'no': 'USA', 'se': 'USA'},\n",
       "    'cityNow': {'en': 'Stanford, CA',\n",
       "     'no': 'Stanford, CA',\n",
       "     'se': 'Stanford, CA',\n",
       "     'sameAs': ['https://www.wikidata.org/wiki/Q173813',\n",
       "      'https://www.wikipedia.org/wiki/Stanford,_California']},\n",
       "    'countryNow': {'en': 'USA',\n",
       "     'no': 'USA',\n",
       "     'se': 'USA',\n",
       "     'sameAs': ['https://www.wikidata.org/wiki/Q30']},\n",
       "    'locationString': {'en': 'Stanford, CA, USA',\n",
       "     'no': 'Stanford, CA, USA',\n",
       "     'se': 'Stanford, CA, USA'}}],\n",
       "  'links': [{'rel': 'nobelPrize',\n",
       "    'href': 'https://api.nobelprize.org/2/nobelPrize/eco/2001',\n",
       "    'action': 'GET',\n",
       "    'types': 'application/json'},\n",
       "   {'rel': 'external',\n",
       "    'href': 'https://www.nobelprize.org/prizes/economic-sciences/2001/spence/facts/',\n",
       "    'title': 'A. Michael Spence - Facts',\n",
       "    'action': 'GET',\n",
       "    'types': 'text/html',\n",
       "    'class': ['laureate facts']},\n",
       "   {'rel': 'external',\n",
       "    'href': 'https://www.nobelprize.org/prizes/economic-sciences/2001/summary/',\n",
       "    'title': 'The Sveriges Riksbank Prize in Economic Sciences in Memory of Alfred Nobel 2001',\n",
       "    'action': 'GET',\n",
       "    'types': 'text/html',\n",
       "    'class': ['prize summary']}]}]"
      ]
     },
     "execution_count": 2,
     "metadata": {},
     "output_type": "execute_result"
    }
   ],
   "source": [
    "\n",
    "df1 = df[[\"gender\", \"nobelPrizes\", \"knownName.en\", \"birth.place.country.en\", \"birth.date\"]]\n",
    "# year = df[\"nobelPrizes\"][0][0][\"awardYear\"]\n",
    "dict_nobel = df1[\"nobelPrizes\"]\n",
    "dict_nobel[0]\n"
   ]
  },
  {
   "cell_type": "code",
   "execution_count": 4,
   "id": "effd62a7",
   "metadata": {},
   "outputs": [],
   "source": [
    "def get_year(a, b):\n",
    "    append_data = []\n",
    "    for i in range(len(dict_nobel)):\n",
    "        append_data.append(dict_nobel[i][0][b])\n",
    "    df1[a] = append_data\n",
    "    return "
   ]
  },
  {
   "cell_type": "code",
   "execution_count": 5,
   "id": "82c80998",
   "metadata": {},
   "outputs": [
    {
     "name": "stderr",
     "output_type": "stream",
     "text": [
      "C:\\Users\\gnsg3\\AppData\\Local\\Temp\\ipykernel_10908\\452796639.py:5: SettingWithCopyWarning: \n",
      "A value is trying to be set on a copy of a slice from a DataFrame.\n",
      "Try using .loc[row_indexer,col_indexer] = value instead\n",
      "\n",
      "See the caveats in the documentation: https://pandas.pydata.org/pandas-docs/stable/user_guide/indexing.html#returning-a-view-versus-a-copy\n",
      "  df1[a] = append_data\n"
     ]
    }
   ],
   "source": [
    "get_year(\"AwardYear\", \"awardYear\")"
   ]
  },
  {
   "cell_type": "code",
   "execution_count": 10,
   "id": "fbc18523",
   "metadata": {},
   "outputs": [],
   "source": [
    "def get_info(a, b):\n",
    "    append_data = []\n",
    "    for i in range(len(dict_nobel)):\n",
    "        append_data.append(dict_nobel[i][0][b][\"en\"])\n",
    "    df1[a] = append_data\n",
    "    return "
   ]
  },
  {
   "cell_type": "code",
   "execution_count": 11,
   "id": "909340f6",
   "metadata": {
    "scrolled": true
   },
   "outputs": [],
   "source": [
    "get_info(\"Category\", \"category\")"
   ]
  },
  {
   "cell_type": "code",
   "execution_count": 12,
   "id": "0fbb7913",
   "metadata": {},
   "outputs": [],
   "source": [
    "get_info(\"Theme\", \"motivation\")"
   ]
  },
  {
   "cell_type": "code",
   "execution_count": 13,
   "id": "04410321",
   "metadata": {},
   "outputs": [],
   "source": [
    "def rename_columns(column, newname):\n",
    "    df1.rename(columns = {column:newname}, axis=1, inplace = True)\n",
    "    return"
   ]
  },
  {
   "cell_type": "code",
   "execution_count": 15,
   "id": "a071de99",
   "metadata": {},
   "outputs": [
    {
     "ename": "NameError",
     "evalue": "name 'a' is not defined",
     "output_type": "error",
     "traceback": [
      "\u001b[1;31m---------------------------------------------------------------------------\u001b[0m",
      "\u001b[1;31mNameError\u001b[0m                                 Traceback (most recent call last)",
      "Input \u001b[1;32mIn [15]\u001b[0m, in \u001b[0;36m<cell line: 1>\u001b[1;34m()\u001b[0m\n\u001b[1;32m----> 1\u001b[0m \u001b[43mrename_columns\u001b[49m\u001b[43m(\u001b[49m\u001b[38;5;124;43m\"\u001b[39;49m\u001b[38;5;124;43mknownName.en\u001b[39;49m\u001b[38;5;124;43m\"\u001b[39;49m\u001b[43m,\u001b[49m\u001b[43m \u001b[49m\u001b[38;5;124;43m\"\u001b[39;49m\u001b[38;5;124;43mName\u001b[39;49m\u001b[38;5;124;43m\"\u001b[39;49m\u001b[43m)\u001b[49m\n\u001b[0;32m      2\u001b[0m rename_columns(\u001b[38;5;124m\"\u001b[39m\u001b[38;5;124mbirth.place.country.en\u001b[39m\u001b[38;5;124m\"\u001b[39m, \u001b[38;5;124m\"\u001b[39m\u001b[38;5;124mCountry\u001b[39m\u001b[38;5;124m\"\u001b[39m)\n\u001b[0;32m      3\u001b[0m rename_columns(\u001b[38;5;124m\"\u001b[39m\u001b[38;5;124mbirth.date\u001b[39m\u001b[38;5;124m\"\u001b[39m, \u001b[38;5;124m\"\u001b[39m\u001b[38;5;124mBirth\u001b[39m\u001b[38;5;124m\"\u001b[39m)\n",
      "Input \u001b[1;32mIn [13]\u001b[0m, in \u001b[0;36mrename_columns\u001b[1;34m(column, newname)\u001b[0m\n\u001b[0;32m      1\u001b[0m \u001b[38;5;28;01mdef\u001b[39;00m \u001b[38;5;21mrename_columns\u001b[39m(column, newname):\n\u001b[1;32m----> 2\u001b[0m     df1\u001b[38;5;241m.\u001b[39mrename(columns \u001b[38;5;241m=\u001b[39m {\u001b[43ma\u001b[49m:b}, axis\u001b[38;5;241m=\u001b[39m\u001b[38;5;241m1\u001b[39m, inplace \u001b[38;5;241m=\u001b[39m \u001b[38;5;28;01mTrue\u001b[39;00m)\n\u001b[0;32m      3\u001b[0m     \u001b[38;5;28;01mreturn\u001b[39;00m\n",
      "\u001b[1;31mNameError\u001b[0m: name 'a' is not defined"
     ]
    }
   ],
   "source": [
    "rename_columns(\"knownName.en\", \"Name\")\n",
    "rename_columns(\"birth.place.country.en\", \"Country\")\n",
    "rename_columns(\"birth.date\", \"Birth\")"
   ]
  },
  {
   "cell_type": "code",
   "execution_count": null,
   "id": "a66d437a",
   "metadata": {},
   "outputs": [],
   "source": [
    "def drop_column(datfr, column):\n",
    "    datfr = datfr.drop(column, axis = 1)\n",
    "    return"
   ]
  },
  {
   "cell_type": "code",
   "execution_count": null,
   "id": "f39366d6",
   "metadata": {},
   "outputs": [],
   "source": [
    "drop_column(df1, \"nobelPrizes\")"
   ]
  },
  {
   "cell_type": "code",
   "execution_count": null,
   "id": "cc986bb7",
   "metadata": {},
   "outputs": [],
   "source": [
    "def getting_birth (ds, column):\n",
    "    pattern = \"(\\d{4})\"\n",
    "    ds[column] = ds[column].apply(lambda x: re.findall(pattern, str(x))).apply(lambda x: ' '.join(x))\n",
    "    return"
   ]
  },
  {
   "cell_type": "code",
   "execution_count": null,
   "id": "4587fc8f",
   "metadata": {
    "scrolled": true
   },
   "outputs": [],
   "source": [
    "getting_birth(df1, \"Birth\")"
   ]
  },
  {
   "cell_type": "code",
   "execution_count": null,
   "id": "ab953787",
   "metadata": {},
   "outputs": [],
   "source": [
    "df1.isna().sum()"
   ]
  },
  {
   "cell_type": "code",
   "execution_count": null,
   "id": "51c858df",
   "metadata": {},
   "outputs": [],
   "source": [
    "df1"
   ]
  },
  {
   "cell_type": "code",
   "execution_count": null,
   "id": "0d625483",
   "metadata": {},
   "outputs": [],
   "source": []
  },
  {
   "cell_type": "code",
   "execution_count": null,
   "id": "9f793716",
   "metadata": {},
   "outputs": [],
   "source": []
  },
  {
   "cell_type": "code",
   "execution_count": null,
   "id": "3af18ae3",
   "metadata": {},
   "outputs": [],
   "source": []
  }
 ],
 "metadata": {
  "kernelspec": {
   "display_name": "Python 3 (ipykernel)",
   "language": "python",
   "name": "python3"
  },
  "language_info": {
   "codemirror_mode": {
    "name": "ipython",
    "version": 3
   },
   "file_extension": ".py",
   "mimetype": "text/x-python",
   "name": "python",
   "nbconvert_exporter": "python",
   "pygments_lexer": "ipython3",
   "version": "3.9.13"
  },
  "vscode": {
   "interpreter": {
    "hash": "d4759af1a331152d6a8c8a49319d038c8a5acd4bea515d65aad9cad3e01a0b9b"
   }
  }
 },
 "nbformat": 4,
 "nbformat_minor": 5
}

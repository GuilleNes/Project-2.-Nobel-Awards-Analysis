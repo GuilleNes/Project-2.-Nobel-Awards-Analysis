{
 "cells": [
  {
   "cell_type": "code",
   "execution_count": 1,
   "id": "288fb69e",
   "metadata": {},
   "outputs": [],
   "source": [
    "import pandas as pd\n",
    "import functions as fun"
   ]
  },
  {
   "cell_type": "markdown",
   "id": "9c651290",
   "metadata": {},
   "source": [
    "# First of all, we clean the dataframe extracted from the API"
   ]
  },
  {
   "cell_type": "code",
   "execution_count": 2,
   "id": "4ed3c38a",
   "metadata": {},
   "outputs": [],
   "source": [
    "df = pd.read_pickle(\"../Data/df.pkl\")"
   ]
  },
  {
   "cell_type": "markdown",
   "id": "2faf47a9",
   "metadata": {},
   "source": [
    "We keep the columns we need and we delete the rest"
   ]
  },
  {
   "cell_type": "code",
   "execution_count": 3,
   "id": "d9991ebd",
   "metadata": {
    "scrolled": true
   },
   "outputs": [],
   "source": [
    "df = df[[\"gender\", \"nobelPrizes\", \"knownName.en\", \"birth.place.country.en\", \"birth.date\"]]\n",
    "nobel = df[\"nobelPrizes\"]"
   ]
  },
  {
   "cell_type": "markdown",
   "id": "f1448e82",
   "metadata": {},
   "source": [
    "From the nobelPrizes column, I extract the Award Year and I create a new column with the information inside"
   ]
  },
  {
   "cell_type": "code",
   "execution_count": 4,
   "id": "82c80998",
   "metadata": {
    "scrolled": true
   },
   "outputs": [],
   "source": [
    "fun.get_year(nobel, df, \"AwardYear\", \"awardYear\")"
   ]
  },
  {
   "cell_type": "markdown",
   "id": "5d851681",
   "metadata": {},
   "source": [
    "From the nobelPrizes column, I extract the category of each award"
   ]
  },
  {
   "cell_type": "code",
   "execution_count": 5,
   "id": "909340f6",
   "metadata": {
    "scrolled": true
   },
   "outputs": [],
   "source": [
    "fun.get_info(df, nobel, \"Category\", \"category\")"
   ]
  },
  {
   "cell_type": "markdown",
   "id": "4557873a",
   "metadata": {},
   "source": [
    "From the nobelPrizes column, I extract the motivation of the award; despite it is not necesary, I found it interesting"
   ]
  },
  {
   "cell_type": "code",
   "execution_count": 6,
   "id": "0fbb7913",
   "metadata": {},
   "outputs": [],
   "source": [
    "fun.get_info(df, nobel, \"Theme\", \"motivation\")"
   ]
  },
  {
   "cell_type": "markdown",
   "id": "01c2c572",
   "metadata": {},
   "source": [
    "Then we rename some of the columns of de df, in order to simplify its reading"
   ]
  },
  {
   "cell_type": "code",
   "execution_count": 7,
   "id": "a071de99",
   "metadata": {},
   "outputs": [],
   "source": [
    "fun.rename_columns(df, \"knownName.en\", \"Name\")\n",
    "fun.rename_columns(df,\"birth.place.country.en\", \"Country\")\n",
    "fun.rename_columns(df,\"birth.date\", \"Birth\")"
   ]
  },
  {
   "cell_type": "markdown",
   "id": "8e45dbed",
   "metadata": {},
   "source": [
    "After extracting all the usefull information, we delete the nobelPrizes column"
   ]
  },
  {
   "cell_type": "code",
   "execution_count": 8,
   "id": "0ba48c97",
   "metadata": {},
   "outputs": [],
   "source": [
    "fun.drop_column(df, \"nobelPrizes\")"
   ]
  },
  {
   "cell_type": "markdown",
   "id": "dfa97cbf",
   "metadata": {},
   "source": [
    "We get the birth date of each awarded only by year"
   ]
  },
  {
   "cell_type": "code",
   "execution_count": 9,
   "id": "31d0bc27",
   "metadata": {
    "scrolled": true
   },
   "outputs": [],
   "source": [
    "fun.getting_birth(df, \"Birth\")"
   ]
  },
  {
   "cell_type": "markdown",
   "id": "322ec534",
   "metadata": {},
   "source": [
    "We sort the df by the award year and reset the index"
   ]
  },
  {
   "cell_type": "code",
   "execution_count": 10,
   "id": "a06ae78b",
   "metadata": {},
   "outputs": [],
   "source": [
    "fun.sort_reset(df)"
   ]
  },
  {
   "cell_type": "markdown",
   "id": "ce0838c1",
   "metadata": {},
   "source": [
    "Finally we delete some few rows with Nan values"
   ]
  },
  {
   "cell_type": "code",
   "execution_count": 11,
   "id": "b40171a2",
   "metadata": {},
   "outputs": [],
   "source": [
    "fun.drop_nan(df)"
   ]
  },
  {
   "cell_type": "code",
   "execution_count": 13,
   "id": "07a86bcd",
   "metadata": {},
   "outputs": [
    {
     "data": {
      "text/html": [
       "<div>\n",
       "<style scoped>\n",
       "    .dataframe tbody tr th:only-of-type {\n",
       "        vertical-align: middle;\n",
       "    }\n",
       "\n",
       "    .dataframe tbody tr th {\n",
       "        vertical-align: top;\n",
       "    }\n",
       "\n",
       "    .dataframe thead th {\n",
       "        text-align: right;\n",
       "    }\n",
       "</style>\n",
       "<table border=\"1\" class=\"dataframe\">\n",
       "  <thead>\n",
       "    <tr style=\"text-align: right;\">\n",
       "      <th></th>\n",
       "      <th>gender</th>\n",
       "      <th>Name</th>\n",
       "      <th>Country</th>\n",
       "      <th>Birth</th>\n",
       "      <th>AwardYear</th>\n",
       "      <th>Category</th>\n",
       "      <th>Theme</th>\n",
       "    </tr>\n",
       "  </thead>\n",
       "  <tbody>\n",
       "    <tr>\n",
       "      <th>0</th>\n",
       "      <td>male</td>\n",
       "      <td>Henry Dunant</td>\n",
       "      <td>Switzerland</td>\n",
       "      <td>1828</td>\n",
       "      <td>1901</td>\n",
       "      <td>Peace</td>\n",
       "      <td>for his humanitarian efforts to help wounded s...</td>\n",
       "    </tr>\n",
       "    <tr>\n",
       "      <th>1</th>\n",
       "      <td>male</td>\n",
       "      <td>Wilhelm Conrad Röntgen</td>\n",
       "      <td>Prussia</td>\n",
       "      <td>1845</td>\n",
       "      <td>1901</td>\n",
       "      <td>Physics</td>\n",
       "      <td>in recognition of the extraordinary services h...</td>\n",
       "    </tr>\n",
       "    <tr>\n",
       "      <th>2</th>\n",
       "      <td>male</td>\n",
       "      <td>Jacobus H. van 't Hoff</td>\n",
       "      <td>the Netherlands</td>\n",
       "      <td>1852</td>\n",
       "      <td>1901</td>\n",
       "      <td>Chemistry</td>\n",
       "      <td>in recognition of the extraordinary services h...</td>\n",
       "    </tr>\n",
       "    <tr>\n",
       "      <th>3</th>\n",
       "      <td>male</td>\n",
       "      <td>Sully Prudhomme</td>\n",
       "      <td>France</td>\n",
       "      <td>1839</td>\n",
       "      <td>1901</td>\n",
       "      <td>Literature</td>\n",
       "      <td>in special recognition of his poetic compositi...</td>\n",
       "    </tr>\n",
       "    <tr>\n",
       "      <th>4</th>\n",
       "      <td>male</td>\n",
       "      <td>Emil von Behring</td>\n",
       "      <td>Prussia</td>\n",
       "      <td>1854</td>\n",
       "      <td>1901</td>\n",
       "      <td>Physiology or Medicine</td>\n",
       "      <td>for his work on serum therapy, especially its ...</td>\n",
       "    </tr>\n",
       "    <tr>\n",
       "      <th>...</th>\n",
       "      <td>...</td>\n",
       "      <td>...</td>\n",
       "      <td>...</td>\n",
       "      <td>...</td>\n",
       "      <td>...</td>\n",
       "      <td>...</td>\n",
       "      <td>...</td>\n",
       "    </tr>\n",
       "    <tr>\n",
       "      <th>949</th>\n",
       "      <td>female</td>\n",
       "      <td>Annie Ernaux</td>\n",
       "      <td>France</td>\n",
       "      <td>1940</td>\n",
       "      <td>2022</td>\n",
       "      <td>Literature</td>\n",
       "      <td>for the courage and clinical acuity with which...</td>\n",
       "    </tr>\n",
       "    <tr>\n",
       "      <th>950</th>\n",
       "      <td>female</td>\n",
       "      <td>Carolyn Bertozzi</td>\n",
       "      <td>USA</td>\n",
       "      <td>1966</td>\n",
       "      <td>2022</td>\n",
       "      <td>Chemistry</td>\n",
       "      <td>for the development of click chemistry and bio...</td>\n",
       "    </tr>\n",
       "    <tr>\n",
       "      <th>951</th>\n",
       "      <td>male</td>\n",
       "      <td>John Clauser</td>\n",
       "      <td>USA</td>\n",
       "      <td>1942</td>\n",
       "      <td>2022</td>\n",
       "      <td>Physics</td>\n",
       "      <td>for experiments with entangled photons, establ...</td>\n",
       "    </tr>\n",
       "    <tr>\n",
       "      <th>952</th>\n",
       "      <td>male</td>\n",
       "      <td>Alain Aspect</td>\n",
       "      <td>France</td>\n",
       "      <td>1947</td>\n",
       "      <td>2022</td>\n",
       "      <td>Physics</td>\n",
       "      <td>for experiments with entangled photons, establ...</td>\n",
       "    </tr>\n",
       "    <tr>\n",
       "      <th>953</th>\n",
       "      <td>male</td>\n",
       "      <td>Morten Meldal</td>\n",
       "      <td>Denmark</td>\n",
       "      <td>1954</td>\n",
       "      <td>2022</td>\n",
       "      <td>Chemistry</td>\n",
       "      <td>for the development of click chemistry and bio...</td>\n",
       "    </tr>\n",
       "  </tbody>\n",
       "</table>\n",
       "<p>954 rows × 7 columns</p>\n",
       "</div>"
      ],
      "text/plain": [
       "     gender                    Name          Country Birth AwardYear  \\\n",
       "0      male            Henry Dunant      Switzerland  1828      1901   \n",
       "1      male  Wilhelm Conrad Röntgen          Prussia  1845      1901   \n",
       "2      male  Jacobus H. van 't Hoff  the Netherlands  1852      1901   \n",
       "3      male         Sully Prudhomme           France  1839      1901   \n",
       "4      male        Emil von Behring          Prussia  1854      1901   \n",
       "..      ...                     ...              ...   ...       ...   \n",
       "949  female            Annie Ernaux           France  1940      2022   \n",
       "950  female        Carolyn Bertozzi              USA  1966      2022   \n",
       "951    male            John Clauser              USA  1942      2022   \n",
       "952    male            Alain Aspect           France  1947      2022   \n",
       "953    male           Morten Meldal          Denmark  1954      2022   \n",
       "\n",
       "                   Category                                              Theme  \n",
       "0                     Peace  for his humanitarian efforts to help wounded s...  \n",
       "1                   Physics  in recognition of the extraordinary services h...  \n",
       "2                 Chemistry  in recognition of the extraordinary services h...  \n",
       "3                Literature  in special recognition of his poetic compositi...  \n",
       "4    Physiology or Medicine  for his work on serum therapy, especially its ...  \n",
       "..                      ...                                                ...  \n",
       "949              Literature  for the courage and clinical acuity with which...  \n",
       "950               Chemistry  for the development of click chemistry and bio...  \n",
       "951                 Physics  for experiments with entangled photons, establ...  \n",
       "952                 Physics  for experiments with entangled photons, establ...  \n",
       "953               Chemistry  for the development of click chemistry and bio...  \n",
       "\n",
       "[954 rows x 7 columns]"
      ]
     },
     "execution_count": 13,
     "metadata": {},
     "output_type": "execute_result"
    }
   ],
   "source": [
    "df.to_csv(\"../data/df.csv\", index=False)\n",
    "df"
   ]
  }
 ],
 "metadata": {
  "kernelspec": {
   "display_name": "Python 3 (ipykernel)",
   "language": "python",
   "name": "python3"
  },
  "language_info": {
   "codemirror_mode": {
    "name": "ipython",
    "version": 3
   },
   "file_extension": ".py",
   "mimetype": "text/x-python",
   "name": "python",
   "nbconvert_exporter": "python",
   "pygments_lexer": "ipython3",
   "version": "3.9.13"
  },
  "vscode": {
   "interpreter": {
    "hash": "d4759af1a331152d6a8c8a49319d038c8a5acd4bea515d65aad9cad3e01a0b9b"
   }
  }
 },
 "nbformat": 4,
 "nbformat_minor": 5
}

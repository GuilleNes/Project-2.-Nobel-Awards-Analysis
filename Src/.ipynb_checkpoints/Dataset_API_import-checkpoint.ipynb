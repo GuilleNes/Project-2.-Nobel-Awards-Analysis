{
 "cells": [
  {
   "cell_type": "code",
   "execution_count": null,
   "id": "875a20df",
   "metadata": {},
   "outputs": [],
   "source": []
  },
  {
   "cell_type": "code",
   "execution_count": 2,
   "id": "4461d856",
   "metadata": {},
   "outputs": [],
   "source": [
    "import pandas as pd\n",
    "import os\n",
    "from dotenv import load_dotenv\n",
    "from pandas import json_normalize\n",
    "import json\n",
    "import requests"
   ]
  },
  {
   "cell_type": "code",
   "execution_count": 4,
   "id": "62d71994",
   "metadata": {},
   "outputs": [],
   "source": [
    "# df = pd.read_csv(\"../Data/archive.csv\")\n"
   ]
  },
  {
   "cell_type": "code",
   "execution_count": 5,
   "id": "87cd6c77",
   "metadata": {},
   "outputs": [],
   "source": [
    "url = 'http://api.nobelprize.org/2.1/laureates?limit=1000&sort=asc&format=json&csvLang=en'\n",
    "parameters = {'accept': 'application/json'}\n",
    "response = requests.get(url).json()\n"
   ]
  },
  {
   "cell_type": "code",
   "execution_count": 19,
   "id": "e6b5002a",
   "metadata": {},
   "outputs": [
    {
     "data": {
      "text/plain": [
       "Index(['id', 'fileName', 'gender', 'sameAs', 'links', 'nobelPrizes',\n",
       "       'knownName.en', 'knownName.se', 'givenName.en', 'givenName.se',\n",
       "       'familyName.en', 'familyName.se', 'fullName.en', 'fullName.se',\n",
       "       'birth.date', 'birth.place.city.en', 'birth.place.city.no',\n",
       "       'birth.place.city.se', 'birth.place.country.en',\n",
       "       'birth.place.country.no', 'birth.place.country.se',\n",
       "       'birth.place.cityNow.en', 'birth.place.cityNow.no',\n",
       "       'birth.place.cityNow.se', 'birth.place.cityNow.sameAs',\n",
       "       'birth.place.countryNow.en', 'birth.place.countryNow.no',\n",
       "       'birth.place.countryNow.se', 'birth.place.countryNow.sameAs',\n",
       "       'birth.place.continent.en', 'birth.place.continent.no',\n",
       "       'birth.place.continent.se', 'birth.place.locationString.en',\n",
       "       'birth.place.locationString.no', 'birth.place.locationString.se',\n",
       "       'wikipedia.slug', 'wikipedia.english', 'wikidata.id', 'wikidata.url',\n",
       "       'death.date', 'death.place.city.en', 'death.place.city.no',\n",
       "       'death.place.city.se', 'death.place.country.en',\n",
       "       'death.place.country.no', 'death.place.country.se',\n",
       "       'death.place.country.sameAs', 'death.place.cityNow.en',\n",
       "       'death.place.cityNow.no', 'death.place.cityNow.se',\n",
       "       'death.place.cityNow.sameAs', 'death.place.countryNow.en',\n",
       "       'death.place.countryNow.no', 'death.place.countryNow.se',\n",
       "       'death.place.countryNow.sameAs', 'death.place.continent.en',\n",
       "       'death.place.continent.no', 'death.place.continent.se',\n",
       "       'death.place.locationString.en', 'death.place.locationString.no',\n",
       "       'death.place.locationString.se', 'acronym', 'orgName.en', 'orgName.no',\n",
       "       'orgName.se', 'founded.date', 'founded.place.city.en',\n",
       "       'founded.place.city.no', 'founded.place.city.se',\n",
       "       'founded.place.country.en', 'founded.place.country.no',\n",
       "       'founded.place.country.se', 'founded.place.country.sameAs',\n",
       "       'founded.place.cityNow.en', 'founded.place.cityNow.no',\n",
       "       'founded.place.cityNow.se', 'founded.place.cityNow.sameAs',\n",
       "       'founded.place.countryNow.en', 'founded.place.countryNow.no',\n",
       "       'founded.place.countryNow.se', 'founded.place.countryNow.sameAs',\n",
       "       'founded.place.continent.en', 'founded.place.continent.no',\n",
       "       'founded.place.continent.se', 'founded.place.locationString.en',\n",
       "       'founded.place.locationString.no', 'founded.place.locationString.se',\n",
       "       'nativeName', 'penName', 'knownName.no', 'givenName.no',\n",
       "       'familyName.no', 'fullName.no', 'foundedCountry.en',\n",
       "       'foundedCountry.no', 'foundedCountry.se', 'foundedCountryNow.en',\n",
       "       'foundedCountryNow.no', 'foundedCountryNow.se', 'foundedContinent.en'],\n",
       "      dtype='object')"
      ]
     },
     "execution_count": 19,
     "metadata": {},
     "output_type": "execute_result"
    }
   ],
   "source": [
    "df = json_normalize(response[\"laureates\"])\n",
    "\n",
    "df.columns"
   ]
  },
  {
   "cell_type": "code",
   "execution_count": null,
   "id": "cc7623fa",
   "metadata": {},
   "outputs": [],
   "source": []
  },
  {
   "cell_type": "code",
   "execution_count": null,
   "id": "357e50e3",
   "metadata": {},
   "outputs": [],
   "source": []
  }
 ],
 "metadata": {
  "kernelspec": {
   "display_name": "Python 3 (ipykernel)",
   "language": "python",
   "name": "python3"
  },
  "language_info": {
   "codemirror_mode": {
    "name": "ipython",
    "version": 3
   },
   "file_extension": ".py",
   "mimetype": "text/x-python",
   "name": "python",
   "nbconvert_exporter": "python",
   "pygments_lexer": "ipython3",
   "version": "3.9.13"
  },
  "vscode": {
   "interpreter": {
    "hash": "d4759af1a331152d6a8c8a49319d038c8a5acd4bea515d65aad9cad3e01a0b9b"
   }
  }
 },
 "nbformat": 4,
 "nbformat_minor": 5
}

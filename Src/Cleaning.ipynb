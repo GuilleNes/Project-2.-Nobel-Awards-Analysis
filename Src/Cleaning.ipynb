{
 "cells": [
  {
   "cell_type": "code",
   "execution_count": 1,
   "id": "288fb69e",
   "metadata": {},
   "outputs": [],
   "source": [
    "import pandas as pd\n",
    "import os\n",
    "from dotenv import load_dotenv\n",
    "from pandas import json_normalize\n",
    "import json\n",
    "import requests\n",
    "import re\n",
    "import functions\n",
    "%run Dataset_API_import.ipynb"
   ]
  },
  {
   "cell_type": "code",
   "execution_count": 2,
   "id": "d9991ebd",
   "metadata": {
    "scrolled": true
   },
   "outputs": [
    {
     "data": {
      "text/plain": [
       "[{'awardYear': '2001',\n",
       "  'category': {'en': 'Economic Sciences', 'no': 'Økonomi', 'se': 'Ekonomi'},\n",
       "  'categoryFullName': {'en': 'The Sveriges Riksbank Prize in Economic Sciences in Memory of Alfred Nobel',\n",
       "   'no': 'Sveriges Riksbanks pris i økonomisk vitenskap til minne om Alfred Nobel',\n",
       "   'se': 'Sveriges Riksbanks pris i ekonomisk vetenskap till Alfred Nobels minne'},\n",
       "  'sortOrder': '2',\n",
       "  'portion': '1/3',\n",
       "  'dateAwarded': '2001-10-10',\n",
       "  'prizeStatus': 'received',\n",
       "  'motivation': {'en': 'for their analyses of markets with asymmetric information',\n",
       "   'se': 'för deras analys av marknader med assymetrisk informations'},\n",
       "  'prizeAmount': 10000000,\n",
       "  'prizeAmountAdjusted': 12518033,\n",
       "  'affiliations': [{'name': {'en': 'Stanford University',\n",
       "     'no': 'Stanford University',\n",
       "     'se': 'Stanford University'},\n",
       "    'nameNow': {'en': 'Stanford University'},\n",
       "    'city': {'en': 'Stanford, CA', 'no': 'Stanford, CA', 'se': 'Stanford, CA'},\n",
       "    'country': {'en': 'USA', 'no': 'USA', 'se': 'USA'},\n",
       "    'cityNow': {'en': 'Stanford, CA',\n",
       "     'no': 'Stanford, CA',\n",
       "     'se': 'Stanford, CA',\n",
       "     'sameAs': ['https://www.wikidata.org/wiki/Q173813',\n",
       "      'https://www.wikipedia.org/wiki/Stanford,_California']},\n",
       "    'countryNow': {'en': 'USA',\n",
       "     'no': 'USA',\n",
       "     'se': 'USA',\n",
       "     'sameAs': ['https://www.wikidata.org/wiki/Q30']},\n",
       "    'locationString': {'en': 'Stanford, CA, USA',\n",
       "     'no': 'Stanford, CA, USA',\n",
       "     'se': 'Stanford, CA, USA'}}],\n",
       "  'links': [{'rel': 'nobelPrize',\n",
       "    'href': 'https://api.nobelprize.org/2/nobelPrize/eco/2001',\n",
       "    'action': 'GET',\n",
       "    'types': 'application/json'},\n",
       "   {'rel': 'external',\n",
       "    'href': 'https://www.nobelprize.org/prizes/economic-sciences/2001/spence/facts/',\n",
       "    'title': 'A. Michael Spence - Facts',\n",
       "    'action': 'GET',\n",
       "    'types': 'text/html',\n",
       "    'class': ['laureate facts']},\n",
       "   {'rel': 'external',\n",
       "    'href': 'https://www.nobelprize.org/prizes/economic-sciences/2001/summary/',\n",
       "    'title': 'The Sveriges Riksbank Prize in Economic Sciences in Memory of Alfred Nobel 2001',\n",
       "    'action': 'GET',\n",
       "    'types': 'text/html',\n",
       "    'class': ['prize summary']}]}]"
      ]
     },
     "execution_count": 2,
     "metadata": {},
     "output_type": "execute_result"
    }
   ],
   "source": [
    "\n",
    "df1 = df[[\"gender\", \"nobelPrizes\", \"knownName.en\", \"birth.place.country.en\", \"birth.date\"]]\n",
    "# year = df[\"nobelPrizes\"][0][0][\"awardYear\"]\n",
    "dict_nobel = df1[\"nobelPrizes\"]\n",
    "dict_nobel[0]\n"
   ]
  },
  {
   "cell_type": "code",
   "execution_count": 3,
   "id": "effd62a7",
   "metadata": {},
   "outputs": [],
   "source": [
    "def get_year(a, b):\n",
    "    append_data = []\n",
    "    for i in range(len(dict_nobel)):\n",
    "        append_data.append(dict_nobel[i][0][b])\n",
    "    df1[a] = append_data\n",
    "    return "
   ]
  },
  {
   "cell_type": "code",
   "execution_count": 4,
   "id": "82c80998",
   "metadata": {},
   "outputs": [
    {
     "name": "stderr",
     "output_type": "stream",
     "text": [
      "C:\\Users\\gnsg3\\AppData\\Local\\Temp\\ipykernel_15660\\452796639.py:5: SettingWithCopyWarning: \n",
      "A value is trying to be set on a copy of a slice from a DataFrame.\n",
      "Try using .loc[row_indexer,col_indexer] = value instead\n",
      "\n",
      "See the caveats in the documentation: https://pandas.pydata.org/pandas-docs/stable/user_guide/indexing.html#returning-a-view-versus-a-copy\n",
      "  df1[a] = append_data\n"
     ]
    }
   ],
   "source": [
    "get_year(\"AwardYear\", \"awardYear\")"
   ]
  },
  {
   "cell_type": "code",
   "execution_count": 5,
   "id": "fbc18523",
   "metadata": {},
   "outputs": [],
   "source": [
    "def get_info(a, b):\n",
    "    append_data = []\n",
    "    for i in range(len(dict_nobel)):\n",
    "        append_data.append(dict_nobel[i][0][b][\"en\"])\n",
    "    df1[a] = append_data\n",
    "    return "
   ]
  },
  {
   "cell_type": "code",
   "execution_count": 6,
   "id": "909340f6",
   "metadata": {
    "scrolled": true
   },
   "outputs": [
    {
     "name": "stderr",
     "output_type": "stream",
     "text": [
      "C:\\Users\\gnsg3\\AppData\\Local\\Temp\\ipykernel_15660\\3759751987.py:5: SettingWithCopyWarning: \n",
      "A value is trying to be set on a copy of a slice from a DataFrame.\n",
      "Try using .loc[row_indexer,col_indexer] = value instead\n",
      "\n",
      "See the caveats in the documentation: https://pandas.pydata.org/pandas-docs/stable/user_guide/indexing.html#returning-a-view-versus-a-copy\n",
      "  df1[a] = append_data\n"
     ]
    }
   ],
   "source": [
    "get_info(\"Category\", \"category\")"
   ]
  },
  {
   "cell_type": "code",
   "execution_count": 7,
   "id": "0fbb7913",
   "metadata": {},
   "outputs": [
    {
     "name": "stderr",
     "output_type": "stream",
     "text": [
      "C:\\Users\\gnsg3\\AppData\\Local\\Temp\\ipykernel_15660\\3759751987.py:5: SettingWithCopyWarning: \n",
      "A value is trying to be set on a copy of a slice from a DataFrame.\n",
      "Try using .loc[row_indexer,col_indexer] = value instead\n",
      "\n",
      "See the caveats in the documentation: https://pandas.pydata.org/pandas-docs/stable/user_guide/indexing.html#returning-a-view-versus-a-copy\n",
      "  df1[a] = append_data\n"
     ]
    }
   ],
   "source": [
    "get_info(\"Theme\", \"motivation\")"
   ]
  },
  {
   "cell_type": "code",
   "execution_count": 8,
   "id": "3bff950b",
   "metadata": {},
   "outputs": [],
   "source": [
    "def rename_columns(column, newname):\n",
    "    df1.rename(columns = {column:newname}, inplace = True)\n",
    "    return"
   ]
  },
  {
   "cell_type": "code",
   "execution_count": 9,
   "id": "a071de99",
   "metadata": {},
   "outputs": [
    {
     "name": "stderr",
     "output_type": "stream",
     "text": [
      "C:\\Users\\gnsg3\\AppData\\Local\\Temp\\ipykernel_15660\\915297512.py:2: SettingWithCopyWarning: \n",
      "A value is trying to be set on a copy of a slice from a DataFrame\n",
      "\n",
      "See the caveats in the documentation: https://pandas.pydata.org/pandas-docs/stable/user_guide/indexing.html#returning-a-view-versus-a-copy\n",
      "  df1.rename(columns = {column:newname}, inplace = True)\n",
      "C:\\Users\\gnsg3\\AppData\\Local\\Temp\\ipykernel_15660\\915297512.py:2: SettingWithCopyWarning: \n",
      "A value is trying to be set on a copy of a slice from a DataFrame\n",
      "\n",
      "See the caveats in the documentation: https://pandas.pydata.org/pandas-docs/stable/user_guide/indexing.html#returning-a-view-versus-a-copy\n",
      "  df1.rename(columns = {column:newname}, inplace = True)\n",
      "C:\\Users\\gnsg3\\AppData\\Local\\Temp\\ipykernel_15660\\915297512.py:2: SettingWithCopyWarning: \n",
      "A value is trying to be set on a copy of a slice from a DataFrame\n",
      "\n",
      "See the caveats in the documentation: https://pandas.pydata.org/pandas-docs/stable/user_guide/indexing.html#returning-a-view-versus-a-copy\n",
      "  df1.rename(columns = {column:newname}, inplace = True)\n"
     ]
    }
   ],
   "source": [
    "rename_columns(\"knownName.en\", \"Name\")\n",
    "rename_columns(\"birth.place.country.en\", \"Country\")\n",
    "rename_columns(\"birth.date\", \"Birth\")"
   ]
  },
  {
   "cell_type": "code",
   "execution_count": 10,
   "id": "734828cd",
   "metadata": {},
   "outputs": [],
   "source": [
    "def drop_column(dfr, column):\n",
    "    dfr = dfr.drop([column], axis = 1, inplace = True)\n",
    "    return"
   ]
  },
  {
   "cell_type": "code",
   "execution_count": 11,
   "id": "0ba48c97",
   "metadata": {},
   "outputs": [
    {
     "name": "stderr",
     "output_type": "stream",
     "text": [
      "C:\\Users\\gnsg3\\AppData\\Local\\Temp\\ipykernel_15660\\2570992842.py:2: SettingWithCopyWarning: \n",
      "A value is trying to be set on a copy of a slice from a DataFrame\n",
      "\n",
      "See the caveats in the documentation: https://pandas.pydata.org/pandas-docs/stable/user_guide/indexing.html#returning-a-view-versus-a-copy\n",
      "  dfr = dfr.drop([column], axis = 1, inplace = True)\n"
     ]
    }
   ],
   "source": [
    "drop_column(df1, \"nobelPrizes\")"
   ]
  },
  {
   "cell_type": "code",
   "execution_count": 12,
   "id": "898ba88d",
   "metadata": {},
   "outputs": [],
   "source": [
    "def getting_birth (ds, column):\n",
    "    pattern = \"(\\d{4})\"\n",
    "    ds[column] = ds[column].apply(lambda x: re.findall(pattern, str(x))).apply(lambda x: ' '.join(x))\n",
    "    return"
   ]
  },
  {
   "cell_type": "code",
   "execution_count": 13,
   "id": "31d0bc27",
   "metadata": {
    "scrolled": true
   },
   "outputs": [
    {
     "name": "stderr",
     "output_type": "stream",
     "text": [
      "C:\\Users\\gnsg3\\AppData\\Local\\Temp\\ipykernel_15660\\2653292863.py:3: SettingWithCopyWarning: \n",
      "A value is trying to be set on a copy of a slice from a DataFrame.\n",
      "Try using .loc[row_indexer,col_indexer] = value instead\n",
      "\n",
      "See the caveats in the documentation: https://pandas.pydata.org/pandas-docs/stable/user_guide/indexing.html#returning-a-view-versus-a-copy\n",
      "  ds[column] = ds[column].apply(lambda x: re.findall(pattern, str(x))).apply(lambda x: ' '.join(x))\n"
     ]
    }
   ],
   "source": [
    "getting_birth(df1, \"Birth\")"
   ]
  },
  {
   "cell_type": "code",
   "execution_count": 14,
   "id": "ab953787",
   "metadata": {},
   "outputs": [
    {
     "data": {
      "text/plain": [
       "gender       27\n",
       "Name         27\n",
       "Country      30\n",
       "Birth         0\n",
       "AwardYear     0\n",
       "Category      0\n",
       "Theme         0\n",
       "dtype: int64"
      ]
     },
     "execution_count": 14,
     "metadata": {},
     "output_type": "execute_result"
    }
   ],
   "source": [
    "df1.isna().sum()"
   ]
  },
  {
   "cell_type": "code",
   "execution_count": 110,
   "id": "0179e133",
   "metadata": {},
   "outputs": [],
   "source": [
    "def sort_reset(dfr):\n",
    "    dfr.sort_values(by = [\"AwardYear\"], inplace = True)\n",
    "    dfr.reset_index(drop=True, inplace=True)\n",
    "    return"
   ]
  },
  {
   "cell_type": "code",
   "execution_count": 111,
   "id": "a06ae78b",
   "metadata": {},
   "outputs": [
    {
     "name": "stderr",
     "output_type": "stream",
     "text": [
      "C:\\Users\\gnsg3\\AppData\\Local\\Temp\\ipykernel_15660\\635552165.py:2: SettingWithCopyWarning: \n",
      "A value is trying to be set on a copy of a slice from a DataFrame\n",
      "\n",
      "See the caveats in the documentation: https://pandas.pydata.org/pandas-docs/stable/user_guide/indexing.html#returning-a-view-versus-a-copy\n",
      "  dfr.sort_values(by = [\"AwardYear\"], inplace = True)\n"
     ]
    }
   ],
   "source": [
    "sort_reset(df1)"
   ]
  },
  {
   "cell_type": "code",
   "execution_count": 105,
   "id": "5d8940c3",
   "metadata": {},
   "outputs": [],
   "source": [
    "def drop_nan(dfr):\n",
    "    dfr.dropna(axis=0, inplace=True, thresh=6)\n",
    "    df1.reset_index(drop=True, inplace=True)\n",
    "    return"
   ]
  },
  {
   "cell_type": "code",
   "execution_count": 106,
   "id": "b40171a2",
   "metadata": {},
   "outputs": [
    {
     "name": "stderr",
     "output_type": "stream",
     "text": [
      "C:\\Users\\gnsg3\\AppData\\Local\\Temp\\ipykernel_15660\\3480515246.py:2: SettingWithCopyWarning: \n",
      "A value is trying to be set on a copy of a slice from a DataFrame\n",
      "\n",
      "See the caveats in the documentation: https://pandas.pydata.org/pandas-docs/stable/user_guide/indexing.html#returning-a-view-versus-a-copy\n",
      "  dfr.dropna(axis=0, inplace=True, thresh=6)\n"
     ]
    }
   ],
   "source": [
    "drop_nan(df1)"
   ]
  },
  {
   "cell_type": "code",
   "execution_count": 109,
   "id": "60d92bd5",
   "metadata": {
    "scrolled": true
   },
   "outputs": [],
   "source": [
    "df1.to_csv(\"../data/df1.csv\", index=False)"
   ]
  }
 ],
 "metadata": {
  "kernelspec": {
   "display_name": "Python 3 (ipykernel)",
   "language": "python",
   "name": "python3"
  },
  "language_info": {
   "codemirror_mode": {
    "name": "ipython",
    "version": 3
   },
   "file_extension": ".py",
   "mimetype": "text/x-python",
   "name": "python",
   "nbconvert_exporter": "python",
   "pygments_lexer": "ipython3",
   "version": "3.9.13"
  },
  "vscode": {
   "interpreter": {
    "hash": "d4759af1a331152d6a8c8a49319d038c8a5acd4bea515d65aad9cad3e01a0b9b"
   }
  }
 },
 "nbformat": 4,
 "nbformat_minor": 5
}

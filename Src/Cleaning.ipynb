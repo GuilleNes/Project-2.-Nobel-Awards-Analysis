{
 "cells": [
  {
   "cell_type": "code",
   "execution_count": null,
   "id": "288fb69e",
   "metadata": {},
   "outputs": [],
   "source": [
    "import pandas as pd\n",
    "import os\n",
    "from dotenv import load_dotenv\n",
    "from pandas import json_normalize\n",
    "import json\n",
    "import requests\n",
    "import re\n",
    "import functions\n",
    "%run Dataset_API_import.ipynb"
   ]
  },
  {
   "cell_type": "code",
   "execution_count": null,
   "id": "d9991ebd",
   "metadata": {
    "scrolled": true
   },
   "outputs": [],
   "source": [
    "\n",
    "df1 = df[[\"gender\", \"nobelPrizes\", \"knownName.en\", \"birth.place.country.en\", \"birth.date\"]]\n",
    "dict_nobel = df1[\"nobelPrizes\"]\n",
    "dict_nobel[0]\n"
   ]
  },
  {
   "cell_type": "code",
   "execution_count": null,
   "id": "effd62a7",
   "metadata": {},
   "outputs": [],
   "source": [
    "def get_year(a, b):\n",
    "    append_data = []\n",
    "    for i in range(len(dict_nobel)):\n",
    "        append_data.append(dict_nobel[i][0][b])\n",
    "    df1[a] = append_data\n",
    "    return "
   ]
  },
  {
   "cell_type": "code",
   "execution_count": null,
   "id": "82c80998",
   "metadata": {},
   "outputs": [],
   "source": [
    "get_year(\"AwardYear\", \"awardYear\")"
   ]
  },
  {
   "cell_type": "code",
   "execution_count": null,
   "id": "fbc18523",
   "metadata": {},
   "outputs": [],
   "source": [
    "def get_info(a, b):\n",
    "    append_data = []\n",
    "    for i in range(len(dict_nobel)):\n",
    "        append_data.append(dict_nobel[i][0][b][\"en\"])\n",
    "    df1[a] = append_data\n",
    "    return "
   ]
  },
  {
   "cell_type": "code",
   "execution_count": null,
   "id": "909340f6",
   "metadata": {
    "scrolled": true
   },
   "outputs": [],
   "source": [
    "get_info(\"Category\", \"category\")"
   ]
  },
  {
   "cell_type": "code",
   "execution_count": null,
   "id": "0fbb7913",
   "metadata": {},
   "outputs": [],
   "source": [
    "get_info(\"Theme\", \"motivation\")"
   ]
  },
  {
   "cell_type": "code",
   "execution_count": null,
   "id": "3bff950b",
   "metadata": {},
   "outputs": [],
   "source": [
    "def rename_columns(column, newname):\n",
    "    df1.rename(columns = {column:newname}, inplace = True)\n",
    "    return"
   ]
  },
  {
   "cell_type": "code",
   "execution_count": null,
   "id": "a071de99",
   "metadata": {},
   "outputs": [],
   "source": [
    "rename_columns(\"knownName.en\", \"Name\")\n",
    "rename_columns(\"birth.place.country.en\", \"Country\")\n",
    "rename_columns(\"birth.date\", \"Birth\")"
   ]
  },
  {
   "cell_type": "code",
   "execution_count": null,
   "id": "734828cd",
   "metadata": {},
   "outputs": [],
   "source": [
    "def drop_column(dfr, column):\n",
    "    dfr = dfr.drop([column], axis = 1, inplace = True)\n",
    "    return"
   ]
  },
  {
   "cell_type": "code",
   "execution_count": null,
   "id": "0ba48c97",
   "metadata": {},
   "outputs": [],
   "source": [
    "drop_column(df1, \"nobelPrizes\")"
   ]
  },
  {
   "cell_type": "code",
   "execution_count": null,
   "id": "898ba88d",
   "metadata": {},
   "outputs": [],
   "source": [
    "def getting_birth (ds, column):\n",
    "    pattern = \"(\\d{4})\"\n",
    "    ds[column] = ds[column].apply(lambda x: re.findall(pattern, str(x))).apply(lambda x: ' '.join(x))\n",
    "    return"
   ]
  },
  {
   "cell_type": "code",
   "execution_count": null,
   "id": "31d0bc27",
   "metadata": {
    "scrolled": true
   },
   "outputs": [],
   "source": [
    "getting_birth(df1, \"Birth\")"
   ]
  },
  {
   "cell_type": "code",
   "execution_count": null,
   "id": "ab953787",
   "metadata": {},
   "outputs": [],
   "source": [
    "df1.isna().sum()"
   ]
  },
  {
   "cell_type": "code",
   "execution_count": null,
   "id": "0179e133",
   "metadata": {},
   "outputs": [],
   "source": [
    "def sort_reset(dfr):\n",
    "    dfr.sort_values(by = [\"AwardYear\"], inplace = True)\n",
    "    dfr.reset_index(drop=True, inplace=True)\n",
    "    return"
   ]
  },
  {
   "cell_type": "code",
   "execution_count": null,
   "id": "a06ae78b",
   "metadata": {},
   "outputs": [],
   "source": [
    "sort_reset(df1)"
   ]
  },
  {
   "cell_type": "code",
   "execution_count": null,
   "id": "5d8940c3",
   "metadata": {},
   "outputs": [],
   "source": [
    "def drop_nan(dfr):\n",
    "    dfr.dropna(axis=0, inplace=True, thresh=6)\n",
    "    df1.reset_index(drop=True, inplace=True)\n",
    "    return"
   ]
  },
  {
   "cell_type": "code",
   "execution_count": null,
   "id": "b40171a2",
   "metadata": {},
   "outputs": [],
   "source": [
    "drop_nan(df1)"
   ]
  },
  {
   "cell_type": "code",
   "execution_count": null,
   "id": "60d92bd5",
   "metadata": {
    "scrolled": true
   },
   "outputs": [],
   "source": [
    "df1.to_csv(\"../data/df1.csv\", index=False)"
   ]
  }
 ],
 "metadata": {
  "kernelspec": {
   "display_name": "Python 3 (ipykernel)",
   "language": "python",
   "name": "python3"
  },
  "language_info": {
   "codemirror_mode": {
    "name": "ipython",
    "version": 3
   },
   "file_extension": ".py",
   "mimetype": "text/x-python",
   "name": "python",
   "nbconvert_exporter": "python",
   "pygments_lexer": "ipython3",
   "version": "3.9.13"
  },
  "vscode": {
   "interpreter": {
    "hash": "d4759af1a331152d6a8c8a49319d038c8a5acd4bea515d65aad9cad3e01a0b9b"
   }
  }
 },
 "nbformat": 4,
 "nbformat_minor": 5
}

{
 "cells": [
  {
   "cell_type": "code",
   "execution_count": null,
   "id": "288fb69e",
   "metadata": {},
   "outputs": [],
   "source": [
    "import pandas as pd\n",
    "import os\n",
    "from dotenv import load_dotenv\n",
    "from pandas import json_normalize\n",
    "import json\n",
    "import requests\n",
    "import re\n",
    "import functions\n",
    "\n",
    "%run Dataset_API_import.ipynb\n"
   ]
  },
  {
   "cell_type": "code",
   "execution_count": null,
   "id": "bfa9d65b",
   "metadata": {},
   "outputs": [],
   "source": [
    "# Function for extracting values from the chaos \"nobelPrizes\" column.\n",
    "\n",
    "# This one is just for the Award Year\n",
    "def get_year(dic, a, b):\n",
    "    append_data = []\n",
    "    for i in range(len(dic)):\n",
    "        append_data.append(dic[i][0][b])\n",
    "    df_1[a] = append_data\n",
    "    return \n",
    "\n",
    "# This one for getting the info of other fields classified by language\n",
    "def get_info(a, b):\n",
    "    append_data = []\n",
    "    for i in range(len(dict_nobel)):\n",
    "        append_data.append(dict_nobel[i][0][b][\"en\"])\n",
    "    df_1[a] = append_data\n",
    "    return \n",
    "\n",
    "#renaming the columns\n",
    "def rename_columns(column, newname):\n",
    "    df_1.rename(columns = {column:newname}, inplace = True)\n",
    "    return\n",
    "  \n",
    "# Dropping columns\n",
    "def drop_column(datfr, column):\n",
    "    datfr = datfr.drop([column], axis = 1, inplace= True)\n",
    "    return\n",
    "\n",
    "# Calculating the age of each Nobel awarded\n",
    "\n",
    "def getting_birth (ds, column):\n",
    "    pattern = \"(\\d{4})\"\n",
    "    ds[column] = ds[column].apply(lambda x: re.findall(pattern, str(x))).apply(lambda x: ' '.join(x))\n",
    "    return\n",
    "\n",
    "#  Creating a new column with the age of the awarded\n",
    "\n",
    "def getting_age (ds):\n",
    "    ds[\"Age\"] = ds[\"AwardYear\"].astype(int) - ds[\"Birth\"].astype(int) \n",
    "    return\n",
    "\n",
    "# We delete some of the rows with missing data (the ones with more than one missing value)\n",
    "\n",
    "def drop_nan(dfr):\n",
    "    dfr.dropna(axis=0, inplace=True, thresh=6)\n",
    "    dfr.reset_index(drop=True, inplace=True)\n",
    "    return\n",
    "\n",
    "# This function is used for sort and reset the df.\n",
    "def sort_reset(dfr):\n",
    "    dfr.sort_values(by = [\"AwardYear\"], inplace = True)\n",
    "    dfr.reset_index(drop=True, inplace=True)\n",
    "    return\n",
    "#---------------------------------------------------------------    \n",
    "\n",
    "# Deleting empty elements in a list from webscrapping   \n",
    "def compact(lst):\n",
    "    return list(filter(None, lst))\n",
    "\n",
    "#------------------------------------------------------------------\n",
    "\n",
    "#Regex on the columns for the GDP df\n",
    "\n",
    "def n_column(df_, column1, columnn):  \n",
    "    pattern = \"\\d{1,3}[\\,\\.]\\d{1,3}[\\,\\.]\\d{1,3}|\\d{1,3}[\\,\\.]\\d{1,3}\"\n",
    "    df_[columnn] = df_[column1].apply(lambda x: re.findall(pattern, str(x)))\n",
    "    return\n",
    "\n",
    "#------------------------------------------------------------------\n",
    "#Cleaning the PISA report\n",
    "\n",
    "def delete_rows(column, value):\n",
    "    df3.drop(df3.loc[df3[column]==value].index, inplace=True)\n",
    "    return  \n",
    "\n",
    "# Deleting the rows by countries we are not interested in the PISA report\n",
    "\n",
    "def delete_rows_country(column):\n",
    "    for i in Countries:\n",
    "        if i not in column:\n",
    "            df3.drop(df3.loc[df3[column]==i].index, inplace=True)\n",
    "    df3.reset_index(drop=True, inplace=True)\n",
    "    return"
   ]
  },
  {
   "cell_type": "markdown",
   "id": "9c651290",
   "metadata": {},
   "source": [
    "First of all, we clean the dataframe extracted from the API\n",
    "\n"
   ]
  },
  {
   "cell_type": "markdown",
   "id": "2faf47a9",
   "metadata": {},
   "source": [
    "We keep the columns we need and we delete the rest"
   ]
  },
  {
   "cell_type": "code",
   "execution_count": null,
   "id": "d9991ebd",
   "metadata": {
    "scrolled": true
   },
   "outputs": [],
   "source": [
    "df_1 = df[[\"gender\", \"nobelPrizes\", \"knownName.en\", \"birth.place.country.en\", \"birth.date\"]]\n",
    "dict_nobel = df_1[\"nobelPrizes\"]"
   ]
  },
  {
   "cell_type": "markdown",
   "id": "f1448e82",
   "metadata": {},
   "source": [
    "From the nobelPrizes column, I extract the Award Year"
   ]
  },
  {
   "cell_type": "code",
   "execution_count": null,
   "id": "82c80998",
   "metadata": {},
   "outputs": [],
   "source": [
    "get_year(dict_nobel, \"AwardYear\", \"awardYear\")"
   ]
  },
  {
   "cell_type": "markdown",
   "id": "5d851681",
   "metadata": {},
   "source": [
    "From the nobelPrizes column, I extract the category of each award"
   ]
  },
  {
   "cell_type": "code",
   "execution_count": null,
   "id": "909340f6",
   "metadata": {
    "scrolled": true
   },
   "outputs": [],
   "source": [
    "get_info(\"Category\", \"category\")"
   ]
  },
  {
   "cell_type": "markdown",
   "id": "4557873a",
   "metadata": {},
   "source": [
    "From the nobelPrizes column, I extract the motivation of the award; despite it is not necesary, I found it interesting"
   ]
  },
  {
   "cell_type": "code",
   "execution_count": null,
   "id": "0fbb7913",
   "metadata": {},
   "outputs": [],
   "source": [
    "get_info(\"Theme\", \"motivation\")"
   ]
  },
  {
   "cell_type": "markdown",
   "id": "01c2c572",
   "metadata": {},
   "source": [
    "Then we rename some of the columns of de df, in order to simplify its reading"
   ]
  },
  {
   "cell_type": "code",
   "execution_count": null,
   "id": "a071de99",
   "metadata": {},
   "outputs": [],
   "source": [
    "rename_columns(\"knownName.en\", \"Name\")\n",
    "rename_columns(\"birth.place.country.en\", \"Country\")\n",
    "rename_columns(\"birth.date\", \"Birth\")"
   ]
  },
  {
   "cell_type": "markdown",
   "id": "8e45dbed",
   "metadata": {},
   "source": [
    "After extracting all the usefull information, we delete the nobelPrizes column"
   ]
  },
  {
   "cell_type": "code",
   "execution_count": null,
   "id": "0ba48c97",
   "metadata": {},
   "outputs": [],
   "source": [
    "drop_column(df_1, \"nobelPrizes\")"
   ]
  },
  {
   "cell_type": "markdown",
   "id": "dfa97cbf",
   "metadata": {},
   "source": [
    "We get the birth date of each awarded only by year"
   ]
  },
  {
   "cell_type": "code",
   "execution_count": null,
   "id": "31d0bc27",
   "metadata": {
    "scrolled": true
   },
   "outputs": [],
   "source": [
    "getting_birth(df_1, \"Birth\")"
   ]
  },
  {
   "cell_type": "markdown",
   "id": "322ec534",
   "metadata": {},
   "source": [
    "We sort the df by the award year and reset the index"
   ]
  },
  {
   "cell_type": "code",
   "execution_count": null,
   "id": "a06ae78b",
   "metadata": {},
   "outputs": [],
   "source": [
    "sort_reset(df_1)"
   ]
  },
  {
   "cell_type": "markdown",
   "id": "ce0838c1",
   "metadata": {},
   "source": [
    "Finally we delete some few rows with Nan values"
   ]
  },
  {
   "cell_type": "code",
   "execution_count": null,
   "id": "b40171a2",
   "metadata": {},
   "outputs": [],
   "source": [
    "drop_nan(df_1)\n"
   ]
  }
 ],
 "metadata": {
  "kernelspec": {
   "display_name": "Python 3 (ipykernel)",
   "language": "python",
   "name": "python3"
  },
  "language_info": {
   "codemirror_mode": {
    "name": "ipython",
    "version": 3
   },
   "file_extension": ".py",
   "mimetype": "text/x-python",
   "name": "python",
   "nbconvert_exporter": "python",
   "pygments_lexer": "ipython3",
   "version": "3.9.13"
  },
  "vscode": {
   "interpreter": {
    "hash": "d4759af1a331152d6a8c8a49319d038c8a5acd4bea515d65aad9cad3e01a0b9b"
   }
  }
 },
 "nbformat": 4,
 "nbformat_minor": 5
}

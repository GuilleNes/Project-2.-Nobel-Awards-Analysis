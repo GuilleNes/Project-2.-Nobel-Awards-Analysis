{
 "cells": [
  {
   "cell_type": "code",
   "execution_count": 1,
   "id": "fd6f4da8",
   "metadata": {},
   "outputs": [],
   "source": [
    "import pandas as pd\n",
    "import os\n",
    "from dotenv import load_dotenv\n",
    "from pandas import json_normalize\n",
    "import json\n",
    "import requests"
   ]
  },
  {
   "cell_type": "code",
   "execution_count": 2,
   "id": "256b0cd1",
   "metadata": {},
   "outputs": [
    {
     "data": {
      "text/plain": [
       "Index(['Country Name', 'Country Code', 'Series Name', 'Series Code',\n",
       "       '2013 [YR2013]', '2014 [YR2014]', '2015 [YR2015]'],\n",
       "      dtype='object')"
      ]
     },
     "execution_count": 2,
     "metadata": {},
     "output_type": "execute_result"
    }
   ],
   "source": [
    "df3 = pd.read_csv(\"../Data/Pisa report 2013 - 2015.csv\")\n",
    "\n",
    "df3.columns\n"
   ]
  },
  {
   "cell_type": "code",
   "execution_count": 3,
   "id": "d6c7dc8d",
   "metadata": {},
   "outputs": [
    {
     "data": {
      "text/plain": [
       "LO.PISA.MAT       129\n",
       "LO.PISA.MAT.FE    129\n",
       "LO.PISA.MAT.MA    129\n",
       "LO.PISA.REA       129\n",
       "LO.PISA.REA.FE    129\n",
       "LO.PISA.REA.MA    129\n",
       "LO.PISA.SCI       129\n",
       "LO.PISA.SCI.FE    129\n",
       "LO.PISA.SCI.MA    129\n",
       "Name: Series Code, dtype: int64"
      ]
     },
     "execution_count": 3,
     "metadata": {},
     "output_type": "execute_result"
    }
   ],
   "source": [
    "df3 = df3.dropna()\n",
    "df3[\"Series Code\"].value_counts()"
   ]
  },
  {
   "cell_type": "code",
   "execution_count": 4,
   "id": "3839be4b",
   "metadata": {},
   "outputs": [],
   "source": [
    "def delete_rows(column, value):\n",
    "    df3.drop(df3.loc[df3[column]==value].index, inplace=True)\n",
    "    return                  \n"
   ]
  },
  {
   "cell_type": "code",
   "execution_count": 5,
   "id": "4d9b6924",
   "metadata": {},
   "outputs": [],
   "source": [
    "delete_rows('Series Code', \"LO.PISA.MAT.FE\" )\n",
    "delete_rows('Series Code', \"LO.PISA.MAT.MA\" )\n",
    "delete_rows('Series Code', \"LO.PISA.REA.FE\" )\n",
    "delete_rows('Series Code', \"LO.PISA.REA.MA\" )\n",
    "delete_rows('Series Code', \"LO.PISA.SCI.FE\" )\n",
    "delete_rows('Series Code', \"LO.PISA.SCI.MA\" )"
   ]
  },
  {
   "cell_type": "code",
   "execution_count": 6,
   "id": "31375736",
   "metadata": {},
   "outputs": [
    {
     "data": {
      "text/plain": [
       "LO.PISA.MAT    129\n",
       "LO.PISA.REA    129\n",
       "LO.PISA.SCI    129\n",
       "Name: Series Code, dtype: int64"
      ]
     },
     "execution_count": 6,
     "metadata": {},
     "output_type": "execute_result"
    }
   ],
   "source": [
    "df3[\"Series Code\"].value_counts()\n"
   ]
  },
  {
   "cell_type": "code",
   "execution_count": 7,
   "id": "6a3e916b",
   "metadata": {},
   "outputs": [],
   "source": [
    "# df3.to_csv(\"../data/df3.csv\", index=False)"
   ]
  },
  {
   "cell_type": "code",
   "execution_count": 13,
   "id": "38e1f3d1",
   "metadata": {},
   "outputs": [],
   "source": [
    "def delete_rows_country(column):\n",
    "    for i in Countries:\n",
    "        if i not in column:\n",
    "            df3.drop(df3.loc[df3[column]==i].index, inplace=True)\n",
    "    df3.reset_index(drop=True, inplace=True)\n",
    "    return"
   ]
  },
  {
   "cell_type": "code",
   "execution_count": 14,
   "id": "5059d17c",
   "metadata": {},
   "outputs": [],
   "source": [
    "delete_rows_country(\"Country Name\")   "
   ]
  },
  {
   "cell_type": "code",
   "execution_count": 16,
   "id": "d70dbc63",
   "metadata": {},
   "outputs": [],
   "source": [
    "\n",
    "def drop_column(datfr, column):\n",
    "    datfr = datfr.drop([column], axis = 1, inplace=True)\n",
    "    return"
   ]
  },
  {
   "cell_type": "code",
   "execution_count": 17,
   "id": "f500e0b7",
   "metadata": {},
   "outputs": [],
   "source": [
    "drop_column(df3,\"2013 [YR2013]\")\n",
    "drop_column(df3,\"2014 [YR2014]\")"
   ]
  },
  {
   "cell_type": "code",
   "execution_count": 18,
   "id": "4d01f839",
   "metadata": {},
   "outputs": [],
   "source": [
    "def sort_reset(dfr, column):\n",
    "    dfr.sort_values(by = [column], inplace = True, ascending = False)\n",
    "    dfr.reset_index(drop=True, inplace=True)\n",
    "    return"
   ]
  },
  {
   "cell_type": "code",
   "execution_count": 19,
   "id": "0d0b4134",
   "metadata": {
    "scrolled": true
   },
   "outputs": [
    {
     "data": {
      "text/html": [
       "<div>\n",
       "<style scoped>\n",
       "    .dataframe tbody tr th:only-of-type {\n",
       "        vertical-align: middle;\n",
       "    }\n",
       "\n",
       "    .dataframe tbody tr th {\n",
       "        vertical-align: top;\n",
       "    }\n",
       "\n",
       "    .dataframe thead th {\n",
       "        text-align: right;\n",
       "    }\n",
       "</style>\n",
       "<table border=\"1\" class=\"dataframe\">\n",
       "  <thead>\n",
       "    <tr style=\"text-align: right;\">\n",
       "      <th></th>\n",
       "      <th>Country Name</th>\n",
       "      <th>Country Code</th>\n",
       "      <th>Series Name</th>\n",
       "      <th>Series Code</th>\n",
       "      <th>2015 [YR2015]</th>\n",
       "    </tr>\n",
       "  </thead>\n",
       "  <tbody>\n",
       "    <tr>\n",
       "      <th>0</th>\n",
       "      <td>Singapore</td>\n",
       "      <td>SGP</td>\n",
       "      <td>PISA: Mean performance on the mathematics scale</td>\n",
       "      <td>LO.PISA.MAT</td>\n",
       "      <td>564.1897</td>\n",
       "    </tr>\n",
       "    <tr>\n",
       "      <th>1</th>\n",
       "      <td>Singapore</td>\n",
       "      <td>SGP</td>\n",
       "      <td>PISA: Mean performance on the science scale</td>\n",
       "      <td>LO.PISA.SCI</td>\n",
       "      <td>555.5747</td>\n",
       "    </tr>\n",
       "    <tr>\n",
       "      <th>2</th>\n",
       "      <td>Hong Kong SAR, China</td>\n",
       "      <td>HKG</td>\n",
       "      <td>PISA: Mean performance on the mathematics scale</td>\n",
       "      <td>LO.PISA.MAT</td>\n",
       "      <td>547.931</td>\n",
       "    </tr>\n",
       "    <tr>\n",
       "      <th>3</th>\n",
       "      <td>Japan</td>\n",
       "      <td>JPN</td>\n",
       "      <td>PISA: Mean performance on the science scale</td>\n",
       "      <td>LO.PISA.SCI</td>\n",
       "      <td>538.3948</td>\n",
       "    </tr>\n",
       "    <tr>\n",
       "      <th>4</th>\n",
       "      <td>Singapore</td>\n",
       "      <td>SGP</td>\n",
       "      <td>PISA: Mean performance on the reading scale</td>\n",
       "      <td>LO.PISA.REA</td>\n",
       "      <td>535.1002</td>\n",
       "    </tr>\n",
       "    <tr>\n",
       "      <th>...</th>\n",
       "      <td>...</td>\n",
       "      <td>...</td>\n",
       "      <td>...</td>\n",
       "      <td>...</td>\n",
       "      <td>...</td>\n",
       "    </tr>\n",
       "    <tr>\n",
       "      <th>85</th>\n",
       "      <td>Mexico</td>\n",
       "      <td>MEX</td>\n",
       "      <td>PISA: Mean performance on the science scale</td>\n",
       "      <td>LO.PISA.SCI</td>\n",
       "      <td>415.7099</td>\n",
       "    </tr>\n",
       "    <tr>\n",
       "      <th>86</th>\n",
       "      <td>Mexico</td>\n",
       "      <td>MEX</td>\n",
       "      <td>PISA: Mean performance on the mathematics scale</td>\n",
       "      <td>LO.PISA.MAT</td>\n",
       "      <td>408.0235</td>\n",
       "    </tr>\n",
       "    <tr>\n",
       "      <th>87</th>\n",
       "      <td>Brazil</td>\n",
       "      <td>BRA</td>\n",
       "      <td>PISA: Mean performance on the reading scale</td>\n",
       "      <td>LO.PISA.REA</td>\n",
       "      <td>407.3486</td>\n",
       "    </tr>\n",
       "    <tr>\n",
       "      <th>88</th>\n",
       "      <td>Brazil</td>\n",
       "      <td>BRA</td>\n",
       "      <td>PISA: Mean performance on the science scale</td>\n",
       "      <td>LO.PISA.SCI</td>\n",
       "      <td>400.6821</td>\n",
       "    </tr>\n",
       "    <tr>\n",
       "      <th>89</th>\n",
       "      <td>Brazil</td>\n",
       "      <td>BRA</td>\n",
       "      <td>PISA: Mean performance on the mathematics scale</td>\n",
       "      <td>LO.PISA.MAT</td>\n",
       "      <td>377.0695</td>\n",
       "    </tr>\n",
       "  </tbody>\n",
       "</table>\n",
       "<p>90 rows × 5 columns</p>\n",
       "</div>"
      ],
      "text/plain": [
       "            Country Name Country Code  \\\n",
       "0              Singapore          SGP   \n",
       "1              Singapore          SGP   \n",
       "2   Hong Kong SAR, China          HKG   \n",
       "3                  Japan          JPN   \n",
       "4              Singapore          SGP   \n",
       "..                   ...          ...   \n",
       "85                Mexico          MEX   \n",
       "86                Mexico          MEX   \n",
       "87                Brazil          BRA   \n",
       "88                Brazil          BRA   \n",
       "89                Brazil          BRA   \n",
       "\n",
       "                                        Series Name  Series Code 2015 [YR2015]  \n",
       "0   PISA: Mean performance on the mathematics scale  LO.PISA.MAT      564.1897  \n",
       "1       PISA: Mean performance on the science scale  LO.PISA.SCI      555.5747  \n",
       "2   PISA: Mean performance on the mathematics scale  LO.PISA.MAT       547.931  \n",
       "3       PISA: Mean performance on the science scale  LO.PISA.SCI      538.3948  \n",
       "4       PISA: Mean performance on the reading scale  LO.PISA.REA      535.1002  \n",
       "..                                              ...          ...           ...  \n",
       "85      PISA: Mean performance on the science scale  LO.PISA.SCI      415.7099  \n",
       "86  PISA: Mean performance on the mathematics scale  LO.PISA.MAT      408.0235  \n",
       "87      PISA: Mean performance on the reading scale  LO.PISA.REA      407.3486  \n",
       "88      PISA: Mean performance on the science scale  LO.PISA.SCI      400.6821  \n",
       "89  PISA: Mean performance on the mathematics scale  LO.PISA.MAT      377.0695  \n",
       "\n",
       "[90 rows x 5 columns]"
      ]
     },
     "execution_count": 19,
     "metadata": {},
     "output_type": "execute_result"
    }
   ],
   "source": [
    "sort_reset(df3, \"2015 [YR2015]\")\n",
    "df3"
   ]
  },
  {
   "cell_type": "code",
   "execution_count": 20,
   "id": "4fa3b248",
   "metadata": {},
   "outputs": [],
   "source": [
    "# df3.to_csv(\"../data/df3.csv\", index=False)"
   ]
  }
 ],
 "metadata": {
  "kernelspec": {
   "display_name": "Python 3 (ipykernel)",
   "language": "python",
   "name": "python3"
  },
  "language_info": {
   "codemirror_mode": {
    "name": "ipython",
    "version": 3
   },
   "file_extension": ".py",
   "mimetype": "text/x-python",
   "name": "python",
   "nbconvert_exporter": "python",
   "pygments_lexer": "ipython3",
   "version": "3.9.13"
  }
 },
 "nbformat": 4,
 "nbformat_minor": 5
}

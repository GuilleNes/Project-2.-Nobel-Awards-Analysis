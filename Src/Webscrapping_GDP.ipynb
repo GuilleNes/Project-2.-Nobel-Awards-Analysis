{
 "cells": [
  {
   "cell_type": "code",
   "execution_count": null,
   "id": "16204aef",
   "metadata": {},
   "outputs": [],
   "source": [
    "import requests\n",
    "from bs4 import BeautifulSoup\n",
    "import pandas as pd\n",
    "import re"
   ]
  },
  {
   "cell_type": "code",
   "execution_count": null,
   "id": "42c15cfb",
   "metadata": {},
   "outputs": [],
   "source": [
    "url = \"https://en.wikipedia.org/wiki/List_of_countries_by_largest_historical_GDP\"\n",
    "# url = \"https://countryeconomy.com/gdp?year=1990\""
   ]
  },
  {
   "cell_type": "code",
   "execution_count": null,
   "id": "9f782cd0",
   "metadata": {},
   "outputs": [],
   "source": [
    "res = requests.get(url)\n",
    "html = res.content\n",
    "soup = BeautifulSoup(html, \"html.parser\")\n",
    "# soup"
   ]
  },
  {
   "cell_type": "code",
   "execution_count": null,
   "id": "2ebf682a",
   "metadata": {},
   "outputs": [],
   "source": [
    "countries = soup.find_all(\"table\",{\"class\":\"wikitable\"})[0]\n"
   ]
  },
  {
   "cell_type": "code",
   "execution_count": null,
   "id": "f99736ca",
   "metadata": {},
   "outputs": [],
   "source": [
    "rows = countries.find_all('tr')\n",
    "rows = [row.text.strip().split(\"\\n\") for row in rows]\n",
    "rows[1]"
   ]
  },
  {
   "cell_type": "code",
   "execution_count": null,
   "id": "fe7d1add",
   "metadata": {},
   "outputs": [],
   "source": [
    "def compact(lst):\n",
    "    return list(filter(None, lst))\n",
    "\n"
   ]
  },
  {
   "cell_type": "code",
   "execution_count": null,
   "id": "f540637f",
   "metadata": {},
   "outputs": [],
   "source": [
    "colnames = rows[0]\n",
    "data = rows[1:]\n",
    "df2 = pd.DataFrame(data, columns=colnames)\n",
    "df2.set_index(\"Year\", inplace=True)\n",
    "df2.rename(columns = {\"1st highlighter\": \"1st\"}, inplace=True)\n",
    "compact(df2)\n",
    "df2"
   ]
  },
  {
   "cell_type": "code",
   "execution_count": null,
   "id": "8075967e",
   "metadata": {},
   "outputs": [],
   "source": [
    "\n",
    "# df2.to_csv(\"../Data/df2.csv\")"
   ]
  },
  {
   "cell_type": "code",
   "execution_count": null,
   "id": "57000b8f",
   "metadata": {},
   "outputs": [],
   "source": [
    "def n_column(column1, columnn):  \n",
    "    pattern1 = \"\\d{1,3}[\\,\\.]\\d{1,3}[\\,\\.]\\d{1,3}|\\d{1,3}[\\,\\.]\\d{1,3}\"\n",
    "    pattern2 = \"[a-zA-Z]+\"\n",
    "    df2[columnn] = df2[column1].apply(lambda x: re.findall(pattern1, str(x))).apply(lambda x: ' '.join(x))\n",
    "    df2[column1] = df2[column1].apply(lambda x: re.findall(pattern2, str(x))).apply(lambda x: ' '.join(x))\n",
    "    return"
   ]
  },
  {
   "cell_type": "code",
   "execution_count": null,
   "id": "7b3d6490",
   "metadata": {},
   "outputs": [],
   "source": [
    "n_column(\"1st\",\"1st_GDP\")\n",
    "n_column(\"2nd\",\"2nd_GDP\")\n",
    "n_column(\"3rd\",\"3rd_GDP\")\n",
    "n_column(\"4th\",\"4th_GDP\")\n",
    "n_column(\"5th\",\"5th_GDP\")\n",
    "n_column(\"6th\",\"6th_GDP\")\n",
    "n_column(\"7th\",\"7th_GDP\")\n",
    "n_column(\"8th\",\"8th_GDP\")\n",
    "n_column(\"9th\",\"9th_GDP\")\n",
    "n_column(\"10th\",\"10th_GDP\")"
   ]
  },
  {
   "cell_type": "code",
   "execution_count": null,
   "id": "5f9e9fd4",
   "metadata": {
    "scrolled": true
   },
   "outputs": [],
   "source": [
    "df2 =  df2[[\"1st\",\"1st_GDP\", \"2nd\",\"2nd_GDP\",\"3rd\",\"3rd_GDP\",\"4th\",\"4th_GDP\", \"5th\",\"5th_GDP\",\"6th\",\"6th_GDP\",\"7th\",\"7th_GDP\",\"8th\",\"8th_GDP\",\"9th\",\"9th_GDP\",\"10th\",\"10th_GDP\"]]\n",
    "df2"
   ]
  },
  {
   "cell_type": "code",
   "execution_count": null,
   "id": "f304528d",
   "metadata": {},
   "outputs": [],
   "source": [
    "df2.to_csv(\"../Data/df2.csv\")"
   ]
  }
 ],
 "metadata": {
  "kernelspec": {
   "display_name": "Python 3 (ipykernel)",
   "language": "python",
   "name": "python3"
  },
  "language_info": {
   "codemirror_mode": {
    "name": "ipython",
    "version": 3
   },
   "file_extension": ".py",
   "mimetype": "text/x-python",
   "name": "python",
   "nbconvert_exporter": "python",
   "pygments_lexer": "ipython3",
   "version": "3.9.13"
  }
 },
 "nbformat": 4,
 "nbformat_minor": 5
}

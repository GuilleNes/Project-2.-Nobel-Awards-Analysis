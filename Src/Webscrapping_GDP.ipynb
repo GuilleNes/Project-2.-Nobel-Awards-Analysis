{
 "cells": [
  {
   "cell_type": "code",
   "execution_count": 1,
   "id": "16204aef",
   "metadata": {},
   "outputs": [],
   "source": [
    "import requests\n",
    "from bs4 import BeautifulSoup\n",
    "import pandas as pd\n",
    "import re"
   ]
  },
  {
   "cell_type": "code",
   "execution_count": 2,
   "id": "42c15cfb",
   "metadata": {},
   "outputs": [],
   "source": [
    "url = \"https://en.wikipedia.org/wiki/List_of_countries_by_largest_historical_GDP\"\n",
    "# url = \"https://countryeconomy.com/gdp?year=1990\""
   ]
  },
  {
   "cell_type": "code",
   "execution_count": 3,
   "id": "9f782cd0",
   "metadata": {},
   "outputs": [],
   "source": [
    "res = requests.get(url)\n",
    "html = res.content\n",
    "soup = BeautifulSoup(html, \"html.parser\")\n",
    "# soup"
   ]
  },
  {
   "cell_type": "code",
   "execution_count": 4,
   "id": "2ebf682a",
   "metadata": {},
   "outputs": [],
   "source": [
    "countries = soup.find_all(\"table\",{\"class\":\"wikitable\"})[0]\n"
   ]
  },
  {
   "cell_type": "code",
   "execution_count": 5,
   "id": "f99736ca",
   "metadata": {},
   "outputs": [
    {
     "data": {
      "text/plain": [
       "['2020',\n",
       " '',\n",
       " '\\xa0United States20,936.600',\n",
       " '',\n",
       " '\\xa0China14,772.731',\n",
       " '',\n",
       " '\\xa0Japan5,064.873',\n",
       " '',\n",
       " '\\xa0Germany3,806.060',\n",
       " '',\n",
       " '\\xa0United Kingdom2,707.744',\n",
       " '',\n",
       " '\\xa0India2,622.984',\n",
       " '',\n",
       " '\\xa0France2,603.004',\n",
       " '',\n",
       " '\\xa0Italy1,886.445',\n",
       " '',\n",
       " '\\xa0Canada1,643.408',\n",
       " '',\n",
       " '\\xa0South Korea1,630.525']"
      ]
     },
     "execution_count": 5,
     "metadata": {},
     "output_type": "execute_result"
    }
   ],
   "source": [
    "rows = countries.find_all('tr')\n",
    "rows = [row.text.strip().split(\"\\n\") for row in rows]\n",
    "rows[1]"
   ]
  },
  {
   "cell_type": "code",
   "execution_count": 6,
   "id": "fe7d1add",
   "metadata": {},
   "outputs": [],
   "source": [
    "def compact(lst):\n",
    "    return list(filter(None, lst))\n",
    "\n"
   ]
  },
  {
   "cell_type": "code",
   "execution_count": 14,
   "id": "f540637f",
   "metadata": {},
   "outputs": [
    {
     "data": {
      "text/plain": [
       "['1st', '2nd', '3rd', '4th', '5th', '6th', '7th', '8th', '9th', '10th']"
      ]
     },
     "execution_count": 14,
     "metadata": {},
     "output_type": "execute_result"
    }
   ],
   "source": [
    "colnames = rows[0]\n",
    "data = rows[1:]\n",
    "df2 = pd.DataFrame(data, columns=colnames)\n",
    "df2.set_index(\"Year\", inplace=True)\n",
    "df2.rename(columns = {\"1st highlighter\": \"1st\"}, inplace=True)\n",
    "compact(df2)\n"
   ]
  },
  {
   "cell_type": "code",
   "execution_count": 8,
   "id": "8075967e",
   "metadata": {},
   "outputs": [],
   "source": [
    "\n",
    "# df2.to_csv(\"../Data/df2.csv\")"
   ]
  },
  {
   "cell_type": "code",
   "execution_count": 9,
   "id": "57000b8f",
   "metadata": {},
   "outputs": [],
   "source": [
    "def n_column(column1, columnn):  \n",
    "    pattern1 = \"\\d{1,3}[\\,\\.]\\d{1,3}[\\,\\.]\\d{1,3}|\\d{1,3}[\\,\\.]\\d{1,3}\"\n",
    "    pattern2 = \"[a-zA-Z]+\"\n",
    "    df2[columnn] = df2[column1].apply(lambda x: re.findall(pattern1, str(x))).apply(lambda x: ' '.join(x))\n",
    "    df2[column1] = df2[column1].apply(lambda x: re.findall(pattern2, str(x))).apply(lambda x: ' '.join(x))\n",
    "    return"
   ]
  },
  {
   "cell_type": "code",
   "execution_count": 10,
   "id": "7b3d6490",
   "metadata": {},
   "outputs": [],
   "source": [
    "n_column(\"1st\",\"1st_GDP\")\n",
    "n_column(\"2nd\",\"2nd_GDP\")\n",
    "n_column(\"3rd\",\"3rd_GDP\")\n",
    "n_column(\"4th\",\"4th_GDP\")\n",
    "n_column(\"5th\",\"5th_GDP\")\n",
    "n_column(\"6th\",\"6th_GDP\")\n",
    "n_column(\"7th\",\"7th_GDP\")\n",
    "n_column(\"8th\",\"8th_GDP\")\n",
    "n_column(\"9th\",\"9th_GDP\")\n",
    "n_column(\"10th\",\"10th_GDP\")"
   ]
  },
  {
   "cell_type": "code",
   "execution_count": 13,
   "id": "5f9e9fd4",
   "metadata": {
    "scrolled": true
   },
   "outputs": [],
   "source": [
    "df2 =  df2[[\"1st\",\"1st_GDP\", \"2nd\",\"2nd_GDP\",\"3rd\",\"3rd_GDP\",\"4th\",\"4th_GDP\", \"5th\",\"5th_GDP\",\"6th\",\"6th_GDP\",\"7th\",\"7th_GDP\",\"8th\",\"8th_GDP\",\"9th\",\"9th_GDP\",\"10th\",\"10th_GDP\"]]\n"
   ]
  },
  {
   "cell_type": "code",
   "execution_count": 12,
   "id": "f304528d",
   "metadata": {},
   "outputs": [],
   "source": [
    "# df2.to_csv(\"../Data/df2.csv\")"
   ]
  }
 ],
 "metadata": {
  "kernelspec": {
   "display_name": "Python 3 (ipykernel)",
   "language": "python",
   "name": "python3"
  },
  "language_info": {
   "codemirror_mode": {
    "name": "ipython",
    "version": 3
   },
   "file_extension": ".py",
   "mimetype": "text/x-python",
   "name": "python",
   "nbconvert_exporter": "python",
   "pygments_lexer": "ipython3",
   "version": "3.9.13"
  }
 },
 "nbformat": 4,
 "nbformat_minor": 5
}
